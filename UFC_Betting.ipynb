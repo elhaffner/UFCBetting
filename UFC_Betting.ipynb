{
  "nbformat": 4,
  "nbformat_minor": 0,
  "metadata": {
    "colab": {
      "provenance": [],
      "authorship_tag": "ABX9TyO7SYuFX1aQURe2pUwxXVYO",
      "include_colab_link": true
    },
    "kernelspec": {
      "name": "python3",
      "display_name": "Python 3"
    },
    "language_info": {
      "name": "python"
    }
  },
  "cells": [
    {
      "cell_type": "markdown",
      "metadata": {
        "id": "view-in-github",
        "colab_type": "text"
      },
      "source": [
        "<a href=\"https://colab.research.google.com/github/elhaffner/UFCBetting/blob/main/UFC_Betting.ipynb\" target=\"_parent\"><img src=\"https://colab.research.google.com/assets/colab-badge.svg\" alt=\"Open In Colab\"/></a>"
      ]
    },
    {
      "cell_type": "code",
      "execution_count": 78,
      "metadata": {
        "id": "aVhKWmydNlRL"
      },
      "outputs": [],
      "source": [
        "import pandas as pd\n",
        "from sklearn import tree\n",
        "from sklearn.model_selection import train_test_split\n",
        "from sklearn.feature_extraction.text import CountVectorizer\n",
        "from sklearn.preprocessing import OneHotEncoder"
      ]
    },
    {
      "cell_type": "code",
      "source": [
        "df = pd.read_csv('ufc-master.csv')"
      ],
      "metadata": {
        "id": "09FvP3ElOFum"
      },
      "execution_count": 79,
      "outputs": []
    },
    {
      "cell_type": "code",
      "source": [
        "train, test = train_test_split(df, test_size=0.2)"
      ],
      "metadata": {
        "id": "oEh8dXzaOZ_d"
      },
      "execution_count": 80,
      "outputs": []
    },
    {
      "cell_type": "code",
      "source": [
        "Y = train['Winner']\n",
        "print(Y.head(5))"
      ],
      "metadata": {
        "colab": {
          "base_uri": "https://localhost:8080/"
        },
        "id": "45jxy52DPGlM",
        "outputId": "c4a7c848-63ce-47de-f1e5-dcd902587603"
      },
      "execution_count": 81,
      "outputs": [
        {
          "output_type": "stream",
          "name": "stdout",
          "text": [
            "868     Blue\n",
            "1810    Blue\n",
            "1218    Blue\n",
            "1422    Blue\n",
            "6078     Red\n",
            "Name: Winner, dtype: object\n"
          ]
        }
      ]
    },
    {
      "cell_type": "code",
      "source": [
        "##Drop columns\n",
        "df.drop(['RedFighter', 'BlueFighter'], axis=1, inplace=True)\n",
        "df.drop(['RedOdds', 'BlueOdds'], axis=1, inplace=True)\n",
        "df.drop(['Location', 'Country'], axis=1, inplace=True)\n",
        "df.drop(['Finish', 'FinishDetails', 'FinishRoundTime'], axis=1, inplace=True)\n",
        "\n",
        "\n"
      ],
      "metadata": {
        "id": "N1p1i8l_tBgV"
      },
      "execution_count": 82,
      "outputs": []
    },
    {
      "cell_type": "code",
      "source": [
        "##Turn columns"
      ],
      "metadata": {
        "id": "ojcfObzuvGHe"
      },
      "execution_count": null,
      "outputs": []
    },
    {
      "cell_type": "code",
      "source": [
        "def map_unique(colName, df):\n",
        "  new = df[colName]\n",
        "  ans_set = set()\n",
        "\n",
        "  for ind, row in new.items():\n",
        "    ans_set.add(row)\n",
        "\n",
        "  res = {}\n",
        "  idx = 0\n",
        "\n",
        "  for elem in ans_set:\n",
        "    res[elem] = idx\n",
        "    idx += 1\n",
        "  return res"
      ],
      "metadata": {
        "id": "eynhzJCQQNfX"
      },
      "execution_count": 32,
      "outputs": []
    },
    {
      "cell_type": "code",
      "source": [
        "map_unique('Winner', df)"
      ],
      "metadata": {
        "colab": {
          "base_uri": "https://localhost:8080/"
        },
        "id": "sz9OtGaGss_g",
        "outputId": "01d08dff-2074-4bd6-986b-1bc537076252"
      },
      "execution_count": 35,
      "outputs": [
        {
          "output_type": "execute_result",
          "data": {
            "text/plain": [
              "{'Blue': 0, 'Red': 1}"
            ]
          },
          "metadata": {},
          "execution_count": 35
        }
      ]
    },
    {
      "cell_type": "code",
      "source": [
        "names = df.iloc[:, 7:8]\n",
        "encoder = OneHotEncoder(sparse_output=False)\n",
        "X = encoder.fit_transform(names)\n",
        "print(X[0:1, :])"
      ],
      "metadata": {
        "colab": {
          "base_uri": "https://localhost:8080/"
        },
        "id": "PFU7lZQtSCUm",
        "outputId": "00e7ce84-5ca1-4782-a803-b6658f4577cc"
      },
      "execution_count": 31,
      "outputs": [
        {
          "output_type": "stream",
          "name": "stdout",
          "text": [
            "[[0. 0. 0. 0. 0. 0. 0. 0. 0. 0. 0. 0. 0. 0. 0. 0. 0. 0. 0. 0. 0. 0. 0. 0.\n",
            "  0. 0. 0. 0. 0. 0. 0. 0. 0. 0. 0. 0. 0. 0. 0. 0. 0. 0. 0. 0. 0. 0. 0. 0.\n",
            "  0. 0. 0. 0. 0. 0. 0. 0. 0. 0. 0. 0. 0. 0. 0. 0. 0. 0. 0. 0. 1. 0. 0. 0.\n",
            "  0. 0. 0. 0. 0. 0. 0. 0. 0. 0. 0. 0. 0. 0. 0. 0. 0. 0. 0. 0. 0. 0. 0. 0.\n",
            "  0. 0. 0. 0. 0. 0. 0. 0. 0. 0. 0. 0. 0. 0. 0. 0. 0. 0. 0. 0. 0. 0. 0. 0.\n",
            "  0. 0. 0. 0. 0. 0. 0. 0. 0. 0. 0. 0. 0. 0. 0. 0. 0. 0. 0. 0. 0. 0. 0. 0.\n",
            "  0. 0. 0. 0. 0. 0.]]\n"
          ]
        }
      ]
    },
    {
      "cell_type": "code",
      "source": [
        "from sklearn.feature_extraction import FeatureHasher\n",
        "\n",
        "names = df['RedFighter']\n",
        "\n",
        "# n_features = number of columns you want (fixed)\n",
        "hasher = FeatureHasher(n_features=2000, input_type='string')\n",
        "X = hasher.transform([ [name[0]] for name in names ])\n",
        "\n",
        "print(X.toarray())  # (4, 50)"
      ],
      "metadata": {
        "colab": {
          "base_uri": "https://localhost:8080/"
        },
        "id": "H5Dd0QRBqVpL",
        "outputId": "2a85907a-d7f2-487a-ab70-16f5ac967364"
      },
      "execution_count": 30,
      "outputs": [
        {
          "output_type": "stream",
          "name": "stdout",
          "text": [
            "[[0. 0. 0. ... 0. 0. 0.]\n",
            " [0. 0. 0. ... 0. 0. 0.]\n",
            " [0. 0. 0. ... 0. 0. 0.]\n",
            " ...\n",
            " [0. 0. 0. ... 0. 0. 0.]\n",
            " [0. 0. 0. ... 0. 0. 0.]\n",
            " [0. 0. 0. ... 0. 0. 0.]]\n"
          ]
        }
      ]
    }
  ]
}