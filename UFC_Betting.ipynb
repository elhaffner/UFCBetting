{
  "nbformat": 4,
  "nbformat_minor": 0,
  "metadata": {
    "colab": {
      "provenance": [],
      "authorship_tag": "ABX9TyPH41/UNetZsmGdc2dRGV1g",
      "include_colab_link": true
    },
    "kernelspec": {
      "name": "python3",
      "display_name": "Python 3"
    },
    "language_info": {
      "name": "python"
    }
  },
  "cells": [
    {
      "cell_type": "markdown",
      "metadata": {
        "id": "view-in-github",
        "colab_type": "text"
      },
      "source": [
        "<a href=\"https://colab.research.google.com/github/elhaffner/UFCBetting/blob/main/UFC_Betting.ipynb\" target=\"_parent\"><img src=\"https://colab.research.google.com/assets/colab-badge.svg\" alt=\"Open In Colab\"/></a>"
      ]
    },
    {
      "cell_type": "code",
      "execution_count": 54,
      "metadata": {
        "id": "aVhKWmydNlRL"
      },
      "outputs": [],
      "source": [
        "import pandas as pd\n",
        "from sklearn import tree\n",
        "from sklearn.model_selection import train_test_split\n",
        "from sklearn.feature_extraction.text import CountVectorizer\n",
        "from sklearn.preprocessing import OneHotEncoder"
      ]
    },
    {
      "cell_type": "code",
      "source": [
        "df = pd.read_csv('ufc-master.csv')"
      ],
      "metadata": {
        "id": "09FvP3ElOFum"
      },
      "execution_count": 68,
      "outputs": []
    },
    {
      "cell_type": "code",
      "source": [
        "train, test = train_test_split(df, test_size=0.2)"
      ],
      "metadata": {
        "id": "oEh8dXzaOZ_d"
      },
      "execution_count": 56,
      "outputs": []
    },
    {
      "cell_type": "code",
      "source": [
        "Y = train['Winner']\n",
        "print(Y.head(5))"
      ],
      "metadata": {
        "colab": {
          "base_uri": "https://localhost:8080/"
        },
        "id": "45jxy52DPGlM",
        "outputId": "e5869168-bcb9-4af5-a9f0-aaae47455da3"
      },
      "execution_count": 57,
      "outputs": [
        {
          "output_type": "stream",
          "name": "stdout",
          "text": [
            "347     Blue\n",
            "6056     Red\n",
            "2453     Red\n",
            "402     Blue\n",
            "1999    Blue\n",
            "Name: Winner, dtype: object\n"
          ]
        }
      ]
    },
    {
      "cell_type": "code",
      "source": [
        "##Drop columns\n",
        "df.drop(['RedFighter', 'BlueFighter'], axis=1, inplace=True)\n",
        "df.drop(['RedOdds', 'BlueOdds'], axis=1, inplace=True)\n",
        "df.drop(['Location', 'Country'], axis=1, inplace=True)\n",
        "df.drop(['EmptyArena'], axis=1, inplace=True)\n",
        "df.drop(['Finish', 'FinishDetails', 'FinishRound', 'FinishRoundTime'], axis=1, inplace=True)\n",
        "df.drop(['TotalFightTimeSecs', 'RedDecOdds', 'BlueDecOdds', 'RSubOdds', 'BSubOdds', 'RKOOdds', 'BKOOdds'], axis=1, inplace=True)\n",
        "\n"
      ],
      "metadata": {
        "id": "N1p1i8l_tBgV"
      },
      "execution_count": 70,
      "outputs": []
    },
    {
      "cell_type": "code",
      "source": [
        "###Process Dates\n",
        "df['Date'] = pd.to_datetime(df['Date'])\n",
        "min = df['Date'].min()\n",
        "df['Date'] = df['Date'].apply(lambda x: x-min)\n",
        "df['Date'] = df['Date'].apply(lambda x: x.days)\n",
        "print(df['Date'].head)"
      ],
      "metadata": {
        "colab": {
          "base_uri": "https://localhost:8080/"
        },
        "id": "ojcfObzuvGHe",
        "outputId": "a5af908e-a9e2-47a7-a119-6cad057ec7b2"
      },
      "execution_count": 59,
      "outputs": [
        {
          "output_type": "stream",
          "name": "stdout",
          "text": [
            "<bound method NDFrame.head of 0       5375\n",
            "1       5375\n",
            "2       5375\n",
            "3       5375\n",
            "4       5375\n",
            "        ... \n",
            "6523       0\n",
            "6524       0\n",
            "6525       0\n",
            "6526       0\n",
            "6527       0\n",
            "Name: Date, Length: 6528, dtype: int64>\n"
          ]
        }
      ]
    },
    {
      "cell_type": "code",
      "source": [
        "df['Winner'] = df['Winner'].apply(lambda x: 1 if x == 'Red' else 0)\n",
        "df['TitleBout'] = df['TitleBout'].apply(lambda x: 1 if x == True else 0)\n",
        "df['Gender'] = df['Gender'].apply(lambda x: 1 if x == 'MALE' else 0)\n",
        "df['BlueStance'] = df['BlueStance'].apply(lambda x: 1 if x == 'Orthodox' else 0)\n",
        "df['RedStance'] = df['RedStance'].apply(lambda x: 1 if x == 'Orthodox' else 0)\n",
        "df['BetterRank'] = df['BetterRank'].apply(lambda x: 0 if x == 'Red' else (1 if x == 'Blue' else 2))\n",
        "print(df['BetterRank'])\n"
      ],
      "metadata": {
        "colab": {
          "base_uri": "https://localhost:8080/"
        },
        "id": "smYJPa00TBnQ",
        "outputId": "7d55a428-8877-4802-8100-f120a3a44368"
      },
      "execution_count": 69,
      "outputs": [
        {
          "output_type": "stream",
          "name": "stdout",
          "text": [
            "0       0\n",
            "1       0\n",
            "2       0\n",
            "3       0\n",
            "4       2\n",
            "       ..\n",
            "6523    2\n",
            "6524    2\n",
            "6525    2\n",
            "6526    2\n",
            "6527    2\n",
            "Name: BetterRank, Length: 6528, dtype: int64\n"
          ]
        }
      ]
    },
    {
      "cell_type": "code",
      "source": [
        "#Onehot encode the weightclass"
      ],
      "metadata": {
        "id": "FeFhs-eIUwaQ"
      },
      "execution_count": null,
      "outputs": []
    },
    {
      "cell_type": "code",
      "source": [
        "def map_unique(colName, df):\n",
        "  new = df[colName]\n",
        "  ans_set = set()\n",
        "\n",
        "  for ind, row in new.items():\n",
        "    ans_set.add(row)\n",
        "\n",
        "  res = {}\n",
        "  idx = 0\n",
        "\n",
        "  for elem in ans_set:\n",
        "    res[elem] = idx\n",
        "    idx += 1\n",
        "  return res"
      ],
      "metadata": {
        "id": "eynhzJCQQNfX"
      },
      "execution_count": 8,
      "outputs": []
    },
    {
      "cell_type": "code",
      "source": [
        "map_unique('Winner', df)"
      ],
      "metadata": {
        "colab": {
          "base_uri": "https://localhost:8080/"
        },
        "id": "sz9OtGaGss_g",
        "outputId": "19dd0724-de1f-4718-90b0-f84cbfb1b0ac"
      },
      "execution_count": 9,
      "outputs": [
        {
          "output_type": "execute_result",
          "data": {
            "text/plain": [
              "{'Blue': 0, 'Red': 1}"
            ]
          },
          "metadata": {},
          "execution_count": 9
        }
      ]
    },
    {
      "cell_type": "code",
      "source": [
        "names = df.iloc[:, 7:8]\n",
        "encoder = OneHotEncoder(sparse_output=False)\n",
        "X = encoder.fit_transform(names)\n",
        "print(X[0:1, :])"
      ],
      "metadata": {
        "colab": {
          "base_uri": "https://localhost:8080/"
        },
        "id": "PFU7lZQtSCUm",
        "outputId": "af017132-254b-495d-9629-2347508e8f0c"
      },
      "execution_count": 10,
      "outputs": [
        {
          "output_type": "stream",
          "name": "stdout",
          "text": [
            "[[0. 0. 1.]]\n"
          ]
        }
      ]
    },
    {
      "cell_type": "code",
      "source": [
        "from sklearn.feature_extraction import FeatureHasher\n",
        "\n",
        "names = df['RedFighter']\n",
        "\n",
        "# n_features = number of columns you want (fixed)\n",
        "hasher = FeatureHasher(n_features=2000, input_type='string')\n",
        "X = hasher.transform([ [name[0]] for name in names ])\n",
        "\n",
        "print(X.toarray())  # (4, 50)"
      ],
      "metadata": {
        "colab": {
          "base_uri": "https://localhost:8080/"
        },
        "id": "H5Dd0QRBqVpL",
        "outputId": "2a85907a-d7f2-487a-ab70-16f5ac967364"
      },
      "execution_count": 30,
      "outputs": [
        {
          "output_type": "stream",
          "name": "stdout",
          "text": [
            "[[0. 0. 0. ... 0. 0. 0.]\n",
            " [0. 0. 0. ... 0. 0. 0.]\n",
            " [0. 0. 0. ... 0. 0. 0.]\n",
            " ...\n",
            " [0. 0. 0. ... 0. 0. 0.]\n",
            " [0. 0. 0. ... 0. 0. 0.]\n",
            " [0. 0. 0. ... 0. 0. 0.]]\n"
          ]
        }
      ]
    }
  ]
}